{
 "cells": [
  {
   "cell_type": "markdown",
   "id": "7a1ead6e-c5d4-4ac6-9369-b4609ca113ce",
   "metadata": {},
   "source": [
    "# Data Science Tools and Ecosystem"
   ]
  },
  {
   "cell_type": "markdown",
   "id": "3deb20b8-2c8b-4013-ac95-ed237a11b994",
   "metadata": {},
   "source": [
    "In this notebook, Data Science Tools and Ecosystem are summarized."
   ]
  },
  {
   "cell_type": "markdown",
   "id": "55e659a5-9428-44c4-8fbc-83fb9f3279a6",
   "metadata": {},
   "source": [
    "Some of the popular languages that Data Scientists use are:\n",
    "- Python\n",
    "- R\n",
    "- SQL"
   ]
  },
  {
   "cell_type": "markdown",
   "id": "d3b8f6dc-b95c-41ad-ac92-b67b057395ed",
   "metadata": {},
   "source": [
    "Some of the commonly used libraries used by Data Scientists include:\n",
    "- PyTorch\n",
    "- Tensorflow\n",
    "- Keras"
   ]
  },
  {
   "cell_type": "markdown",
   "id": "51e90600-d2d9-4ced-a2f9-25ee0c12f03c",
   "metadata": {},
   "source": [
    "| Data Science Tools      |\n",
    "| ----------- |\n",
    "| SageMaker      |\n",
    "| AzureML   |\n",
    "| Firehose |"
   ]
  },
  {
   "cell_type": "markdown",
   "id": "f37a4d3c-7402-4d87-ad28-497f936b2748",
   "metadata": {},
   "source": [
    "Below are a few examples of evaluating arithmetic expressions in Python.\n",
    "\n",
    "$$ x = {-b \\pm \\sqrt{b^2-4ac} \\over 2a} $$"
   ]
  },
  {
   "cell_type": "code",
   "execution_count": 2,
   "id": "072b180d-40c3-46fe-9814-aca5c53402c7",
   "metadata": {},
   "outputs": [
    {
     "data": {
      "text/plain": [
       "17"
      ]
     },
     "execution_count": 2,
     "metadata": {},
     "output_type": "execute_result"
    }
   ],
   "source": [
    "# This a simple arithmetic expression to mutiply then add integers\n",
    "(3*4)+5"
   ]
  },
  {
   "cell_type": "code",
   "execution_count": 3,
   "id": "23fba5f7-ce5e-4dc5-b4e1-de541e8e1ccc",
   "metadata": {},
   "outputs": [
    {
     "data": {
      "text/plain": [
       "3.3333333333333335"
      ]
     },
     "execution_count": 3,
     "metadata": {},
     "output_type": "execute_result"
    }
   ],
   "source": [
    "# This will convert 200 minutes to hours by diving by 60.\n",
    "200 / 60"
   ]
  },
  {
   "cell_type": "markdown",
   "id": "389e8d25-5454-4879-9a84-4f5b5fb0ee2b",
   "metadata": {},
   "source": [
    "Objectives:\n",
    "- Markdown table\n",
    "- Markdown math experssion\n",
    "- Running cells"
   ]
  },
  {
   "cell_type": "code",
   "execution_count": null,
   "id": "8b73a0fb-2318-42e6-9164-d8d3e339aaa8",
   "metadata": {},
   "outputs": [],
   "source": []
  }
 ],
 "metadata": {
  "kernelspec": {
   "display_name": "Python",
   "language": "python",
   "name": "conda-env-python-py"
  },
  "language_info": {
   "codemirror_mode": {
    "name": "ipython",
    "version": 3
   },
   "file_extension": ".py",
   "mimetype": "text/x-python",
   "name": "python",
   "nbconvert_exporter": "python",
   "pygments_lexer": "ipython3",
   "version": "3.7.12"
  }
 },
 "nbformat": 4,
 "nbformat_minor": 5
}
